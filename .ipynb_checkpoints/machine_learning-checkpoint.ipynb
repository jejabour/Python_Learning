{
 "cells": [
  {
   "cell_type": "code",
   "execution_count": 56,
   "metadata": {},
   "outputs": [
    {
     "data": {
      "text/plain": [
       "array(['HipHop'], dtype=object)"
      ]
     },
     "execution_count": 56,
     "metadata": {},
     "output_type": "execute_result"
    }
   ],
   "source": [
    "import pandas as pd\n",
    "from sklearn.tree import DecisionTreeClassifier\n",
    "from sklearn.model_selection import train_test_split\n",
    "from sklearn.metrics import accuracy_score\n",
    "from sklearn.externals import joblib\n",
    "\n",
    "# Importing the data in csv\n",
    "music_data = pd.read_csv('music.csv')\n",
    "\n",
    "# These two lines are how we separate the data. Since our data is in age, gender, likes\n",
    "# We decide to separate the age and gender (as if they're inputs) and the likes (as output)\n",
    "X = music_data.drop(columns = ['genre'])\n",
    "y = music_data['genre']\n",
    "\n",
    "#This line takes 20% of the data out for testing and uses the other 80% for training.\n",
    "# X_train, X_test, y_train, y_test = train_test_split(X, y, test_size=0.1)\n",
    "\n",
    "\n",
    "model = DecisionTreeClassifier()\n",
    "model.fit(X_train, y_train)\n",
    "\n",
    "model = joblib.dump(model, 'music-recommender.joblib')\n",
    "\n",
    "# Once the model file has been created, we could comment out everything used to create it\n",
    "# (Which would be everything above this) and just use these lines of code to test\n",
    "# Because this is such a small file, I'm gonna keep em here\n",
    "model_job = joblib.load('music-recommender.joblib')\n",
    "predictions = model_job.predict([[21,1]])\n",
    "predictions\n",
    "\n",
    "# predictions = model.predict(X_test)\n",
    "\n",
    "# Returns an accuracy score from 0 - 1\n",
    "# score = accuracy_score(y_test, predictions)\n",
    "# score\n"
   ]
  },
  {
   "cell_type": "code",
   "execution_count": 58,
   "metadata": {},
   "outputs": [],
   "source": [
    "import pandas as pd\n",
    "from sklearn.tree import DecisionTreeClassifier\n",
    "from sklearn import tree\n",
    "\n",
    "music_data = pd.read_csv('music.csv')\n",
    "X = music_data.drop(columns = ['genre'])\n",
    "y = music_data['genre']\n",
    "\n",
    "model = DecisionTreeClassifier()\n",
    "model.fit(X, y)\n",
    "\n",
    "tree.export_graphviz(model, out_file = 'music-recommender.dot',\n",
    "                    feature_names = ['age', 'gender'],\n",
    "                    class_names = sorted(y.unique()),\n",
    "                    label = 'all',\n",
    "                    rounded = True,\n",
    "                    filled = True)"
   ]
  },
  {
   "cell_type": "code",
   "execution_count": null,
   "metadata": {},
   "outputs": [],
   "source": []
  }
 ],
 "metadata": {
  "kernelspec": {
   "display_name": "Python 3",
   "language": "python",
   "name": "python3"
  },
  "language_info": {
   "codemirror_mode": {
    "name": "ipython",
    "version": 3
   },
   "file_extension": ".py",
   "mimetype": "text/x-python",
   "name": "python",
   "nbconvert_exporter": "python",
   "pygments_lexer": "ipython3",
   "version": "3.7.3"
  }
 },
 "nbformat": 4,
 "nbformat_minor": 2
}
